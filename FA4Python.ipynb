{
  "metadata": {
    "kernelspec": {
      "language": "python",
      "display_name": "Python 3",
      "name": "python3"
    },
    "language_info": {
      "name": "python",
      "version": "3.10.13",
      "mimetype": "text/x-python",
      "codemirror_mode": {
        "name": "ipython",
        "version": 3
      },
      "pygments_lexer": "ipython3",
      "nbconvert_exporter": "python",
      "file_extension": ".py"
    },
    "kaggle": {
      "accelerator": "none",
      "dataSources": [],
      "dockerImageVersionId": 30646,
      "isInternetEnabled": false,
      "language": "python",
      "sourceType": "notebook",
      "isGpuEnabled": false
    },
    "colab": {
      "name": "FA4Python",
      "provenance": [],
      "include_colab_link": true
    }
  },
  "nbformat_minor": 0,
  "nbformat": 4,
  "cells": [
    {
      "cell_type": "markdown",
      "metadata": {
        "id": "view-in-github",
        "colab_type": "text"
      },
      "source": [
        "<a href=\"https://colab.research.google.com/github/KianArago/APM1105/blob/main/FA4Python.ipynb\" target=\"_parent\"><img src=\"https://colab.research.google.com/assets/colab-badge.svg\" alt=\"Open In Colab\"/></a>"
      ]
    },
    {
      "cell_type": "markdown",
      "source": [
        "# 1. Write a Python program to print the even numbers from a given list."
      ],
      "metadata": {
        "id": "CwnVgeYs1w5K"
      }
    },
    {
      "cell_type": "code",
      "source": [
        "\n",
        "list1 = [1, 2, 3, 4, 5, 6, 7, 8, 9, 10, 11, 13, 15, 17, 19, 24, 26, 28, 30, 32]\n",
        "\n",
        "for i in range (len(list1)):\n",
        "    x = list1[i]%2\n",
        "\n",
        "    if (x == 0):\n",
        "        print(list1[i])\n",
        "    else:\n",
        "        continue"
      ],
      "metadata": {
        "execution": {
          "iopub.status.busy": "2024-02-14T03:33:28.882192Z",
          "iopub.execute_input": "2024-02-14T03:33:28.882951Z",
          "iopub.status.idle": "2024-02-14T03:33:28.889366Z",
          "shell.execute_reply.started": "2024-02-14T03:33:28.882919Z",
          "shell.execute_reply": "2024-02-14T03:33:28.888354Z"
        },
        "id": "6KReGPgq1w5Q",
        "outputId": "274f7b0f-a769-4ed2-dcb2-1b591c5ef7f1",
        "colab": {
          "base_uri": "https://localhost:8080/"
        }
      },
      "execution_count": 1,
      "outputs": [
        {
          "output_type": "stream",
          "name": "stdout",
          "text": [
            "2\n",
            "4\n",
            "6\n",
            "8\n",
            "10\n",
            "24\n",
            "26\n",
            "28\n",
            "30\n",
            "32\n"
          ]
        }
      ]
    },
    {
      "cell_type": "code",
      "source": [],
      "metadata": {
        "id": "NmML6XvE1w5R"
      },
      "execution_count": 1,
      "outputs": []
    },
    {
      "cell_type": "markdown",
      "source": [
        "# 2. Generate a Python list of all the even numbers between 10 to 60."
      ],
      "metadata": {
        "id": "CX2dR4-G1w5R"
      }
    },
    {
      "cell_type": "code",
      "source": [
        "\n",
        "even_number_list = []\n",
        "\n",
        "for i in range(10, 61):\n",
        "    x = i%2\n",
        "\n",
        "    if (x == 0):\n",
        "        even_number_list.append(i)\n",
        "    else:\n",
        "        continue\n",
        "\n",
        "print('The list of even numbers between 10 to 60 is')\n",
        "print(even_number_list)"
      ],
      "metadata": {
        "execution": {
          "iopub.status.busy": "2024-02-14T04:15:48.363255Z",
          "iopub.execute_input": "2024-02-14T04:15:48.364318Z",
          "iopub.status.idle": "2024-02-14T04:15:48.370529Z",
          "shell.execute_reply.started": "2024-02-14T04:15:48.364263Z",
          "shell.execute_reply": "2024-02-14T04:15:48.369141Z"
        },
        "trusted": true,
        "id": "GltgEoGl1w5R",
        "outputId": "0eb5d827-cc72-4914-9ca5-b26447712c74"
      },
      "execution_count": null,
      "outputs": [
        {
          "name": "stdout",
          "text": "The list of even numbers between 10 to 60 is\n[10, 12, 14, 16, 18, 20, 22, 24, 26, 28, 30, 32, 34, 36, 38, 40, 42, 44, 46, 48, 50, 52, 54, 56, 58, 60]\n",
          "output_type": "stream"
        }
      ]
    },
    {
      "cell_type": "markdown",
      "source": [
        "# 3. Write a program to create a function show_feu_professor() using the following conditions:\n",
        "\n",
        "##### It should accept the professor’s name and salary and display both.\n",
        "##### If the salary is missing in the function call then assign default value 70000 to salary."
      ],
      "metadata": {
        "id": "7YTWceW_1w5S"
      }
    },
    {
      "cell_type": "code",
      "source": [
        "\n",
        "def show_feu_professor(name, salary):\n",
        "\n",
        "        if (salary < 70000):\n",
        "            print('The salary amount you have entered is too low, the salary of', name, 'has been set to the default amount which is 70000 Php')\n",
        "            return;\n",
        "\n",
        "        if (salary <= 120000):\n",
        "            print('The salary of', name,'is in the range of 70000-120000 Php and has a salary grade of 1')\n",
        "            return;\n",
        "\n",
        "        if(salary <= 150000):\n",
        "            print('The salary of', name,'is in the range of 120001-150000 Php and has a salary grade of 2')\n",
        "            return;\n",
        "\n",
        "        if(salary <= 180000):\n",
        "            print('The salary of', name,'is in the range of 150001-180000 Php and has a salary grade of 3')\n",
        "            return;\n",
        "\n",
        "        if(salary <= 200000):\n",
        "            print('The salary of', name,'is in the range of 180001-200000 Php and has the highest salary grade of 4')\n",
        "            return;\n",
        "\n",
        "        else:\n",
        "            print('The amount you enter is too high,the salary of', name,'has been set to the highest salary of 200000 Php with a salary grade of 4')\n",
        "\n",
        "print('Here are the list of professors:')\n",
        "\n",
        "print('1) Eugenio, Joanna')\n",
        "print('2) Alavarina, Jeffrey')\n",
        "print('3) Gella, Fredrick')\n",
        "print('4) Mariano, Maria')\n",
        "print('5) Bernales, Gerlon')\n",
        "\n",
        "name = str(input(print('Select a professor >> ')))\n",
        "salary = int(input(print('Type the expected amount of salary >> ')))\n",
        "\n",
        "show_feu_professor(name, salary)"
      ],
      "metadata": {
        "execution": {
          "iopub.status.busy": "2024-02-14T04:13:31.668498Z",
          "iopub.execute_input": "2024-02-14T04:13:31.668874Z",
          "iopub.status.idle": "2024-02-14T04:13:39.478206Z",
          "shell.execute_reply.started": "2024-02-14T04:13:31.668846Z",
          "shell.execute_reply": "2024-02-14T04:13:39.47733Z"
        },
        "trusted": true,
        "id": "wwwOZR581w5T"
      },
      "execution_count": null,
      "outputs": []
    }
  ]
}