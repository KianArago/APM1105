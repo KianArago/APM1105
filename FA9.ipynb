{
  "nbformat": 4,
  "nbformat_minor": 0,
  "metadata": {
    "colab": {
      "provenance": [],
      "authorship_tag": "ABX9TyNngyX6W24TfILLShV7v5Tn",
      "include_colab_link": true
    },
    "kernelspec": {
      "name": "python3",
      "display_name": "Python 3"
    },
    "language_info": {
      "name": "python"
    }
  },
  "cells": [
    {
      "cell_type": "markdown",
      "metadata": {
        "id": "view-in-github",
        "colab_type": "text"
      },
      "source": [
        "<a href=\"https://colab.research.google.com/github/KianArago/APM1105/blob/main/FA9.ipynb\" target=\"_parent\"><img src=\"https://colab.research.google.com/assets/colab-badge.svg\" alt=\"Open In Colab\"/></a>"
      ]
    },
    {
      "cell_type": "code",
      "execution_count": 10,
      "metadata": {
        "colab": {
          "base_uri": "https://localhost:8080/"
        },
        "id": "rC2SmJeVLd4_",
        "outputId": "6612d346-bb90-4bac-b10f-fe9b6c8b1a9a"
      },
      "outputs": [
        {
          "output_type": "stream",
          "name": "stdout",
          "text": [
            "AssocProf Descriptive Statistics:\n",
            "count        13.000000\n",
            "mean      91786.230769\n",
            "std       18571.183714\n",
            "min       62884.000000\n",
            "25%       74830.000000\n",
            "50%      103613.000000\n",
            "75%      104542.000000\n",
            "max      119800.000000\n",
            "Valid        13.000000\n",
            "Name: salary, dtype: float64\n",
            "\n",
            "AsstProf Descriptive Statistics:\n",
            "count       19.000000\n",
            "mean     81362.789474\n",
            "std       9381.245301\n",
            "min      63100.000000\n",
            "25%      74096.000000\n",
            "50%      78500.000000\n",
            "75%      91150.000000\n",
            "max      97032.000000\n",
            "Valid       19.000000\n",
            "Name: salary, dtype: float64\n",
            "\n",
            "Prof Descriptive Statistics:\n",
            "count        46.000000\n",
            "mean     123624.804348\n",
            "std       24850.287853\n",
            "min       57800.000000\n",
            "25%      105112.500000\n",
            "50%      123321.500000\n",
            "75%      143512.250000\n",
            "max      186960.000000\n",
            "Valid        46.000000\n",
            "Name: salary, dtype: float64\n"
          ]
        }
      ],
      "source": [
        "import pandas as pd\n",
        "\n",
        "# URL of the dataset\n",
        "url = \"https://raw.githubusercontent.com/Apress/data-analysis-and-visualization-using-python/master/Ch07/Salaries.csv\"\n",
        "\n",
        "try:\n",
        "    # Read the CSV file into a DataFrame\n",
        "    salaries_df = pd.read_csv(url)\n",
        "\n",
        "    # Filter the DataFrame for each category: AssocProf, AsstProf, Prof\n",
        "    assocprof_salaries = salaries_df[salaries_df['rank'] == 'AssocProf']['salary']\n",
        "    asstprof_salaries = salaries_df[salaries_df['rank'] == 'AsstProf']['salary']\n",
        "    prof_salaries = salaries_df[salaries_df['rank'] == 'Prof']['salary']\n",
        "\n",
        "    # Compute descriptive statistics for each category\n",
        "    assocprof_stats = assocprof_salaries.describe()\n",
        "    asstprof_stats = asstprof_salaries.describe()\n",
        "    prof_stats = prof_salaries.describe()\n",
        "\n",
        "    # Additional statistics\n",
        "    assocprof_stats['Valid'] = assocprof_salaries.count()\n",
        "    asstprof_stats['Valid'] = asstprof_salaries.count()\n",
        "    prof_stats['Valid'] = prof_salaries.count()\n",
        "\n",
        "    # Display the descriptive statistics for each category\n",
        "    print(\"AssocProf Descriptive Statistics:\")\n",
        "    print(assocprof_stats)\n",
        "    print(\"\\nAsstProf Descriptive Statistics:\")\n",
        "    print(asstprof_stats)\n",
        "    print(\"\\nProf Descriptive Statistics:\")\n",
        "    print(prof_stats)\n",
        "\n",
        "except Exception as e:\n",
        "    print(\"Error:\", e)"
      ]
    }
  ]
}